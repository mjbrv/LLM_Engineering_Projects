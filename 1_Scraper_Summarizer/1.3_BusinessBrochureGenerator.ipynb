{
 "cells": [
  {
   "cell_type": "markdown",
   "id": "a98030af-fcd1-4d63-a36e-38ba053498fa",
   "metadata": {},
   "source": [
    "# A Full Business Solution\n",
    "\n",
    "## Now taking our *Scraper Summarizer* project to the next level\n",
    "\n",
    "### BUSINESS CHALLENGE:\n",
    "\n",
    "Create a product that builds a Brochure for a company to be used for prospective clients, investors and potential recruits.\n",
    "\n",
    "Acompany name and their primary website will be provided.\n",
    "\n",
    "See the end of this notebook for examples of real-world business applications"
   ]
  },
  {
   "cell_type": "code",
   "execution_count": 1,
   "id": "d5b08506-dc8b-4443-9201-5f1848161363",
   "metadata": {},
   "outputs": [],
   "source": [
    "# imports\n",
    "\n",
    "import os\n",
    "import requests\n",
    "import json\n",
    "from typing import List\n",
    "from dotenv import load_dotenv\n",
    "from bs4 import BeautifulSoup\n",
    "from IPython.display import Markdown, display, update_display\n",
    "from openai import OpenAI"
   ]
  },
  {
   "cell_type": "code",
   "execution_count": 2,
   "id": "fc5d8880-f2ee-4c06-af16-ecbc0262af61",
   "metadata": {},
   "outputs": [
    {
     "name": "stdout",
     "output_type": "stream",
     "text": [
      "API key looks good so far\n"
     ]
    }
   ],
   "source": [
    "# Initialize and constants\n",
    "\n",
    "load_dotenv(override=True)\n",
    "api_key = os.getenv('OPENAI_API_KEY')\n",
    "\n",
    "if api_key and api_key.startswith('sk-proj-') and len(api_key)>10:\n",
    "    print(\"API key looks good so far\")\n",
    "else:\n",
    "    print(\"There might be a problem with your API key? Please visit the troubleshooting notebook!\")\n",
    "    \n",
    "MODEL = 'gpt-4o-mini'\n",
    "openai = OpenAI()"
   ]
  },
  {
   "cell_type": "code",
   "execution_count": 3,
   "id": "106dd65e-90af-4ca8-86b6-23a41840645b",
   "metadata": {},
   "outputs": [],
   "source": [
    "# A class to represent a Webpage\n",
    "\n",
    "# Some websites need you to use proper headers when fetching them:\n",
    "headers = {\n",
    " \"User-Agent\": \"Mozilla/5.0 (Windows NT 10.0; Win64; x64) AppleWebKit/537.36 (KHTML, like Gecko) Chrome/117.0.0.0 Safari/537.36\"\n",
    "}\n",
    "\n",
    "class Website:\n",
    "    \"\"\"\n",
    "    A utility class to represent a Website that we have scraped, now with links\n",
    "    \"\"\"\n",
    "\n",
    "    def __init__(self, url):\n",
    "        self.url = url\n",
    "        response = requests.get(url, headers=headers)\n",
    "        self.body = response.content\n",
    "        soup = BeautifulSoup(self.body, 'html.parser')\n",
    "        self.title = soup.title.string if soup.title else \"No title found\"\n",
    "        if soup.body:\n",
    "            for irrelevant in soup.body([\"script\", \"style\", \"img\", \"input\"]):\n",
    "                irrelevant.decompose()\n",
    "            self.text = soup.body.get_text(separator=\"\\n\", strip=True)\n",
    "        else:\n",
    "            self.text = \"\"\n",
    "        links = [link.get('href') for link in soup.find_all('a')]\n",
    "        self.links = [link for link in links if link]\n",
    "\n",
    "    def get_contents(self):\n",
    "        return f\"Webpage Title:\\n{self.title}\\nWebpage Contents:\\n{self.text}\\n\\n\""
   ]
  },
  {
   "cell_type": "code",
   "execution_count": null,
   "id": "e30d8128-933b-44cc-81c8-ab4c9d86589a",
   "metadata": {},
   "outputs": [],
   "source": [
    "bpcs = Website(\"https://bpcs.com\")\n",
    "bpcs.links"
   ]
  },
  {
   "cell_type": "markdown",
   "id": "1771af9c-717a-4fca-bbbe-8a95893312c3",
   "metadata": {},
   "source": [
    "## First step: Have GPT-4o-mini figure out which links are relevant\n",
    "\n",
    "### Use a call to gpt-4o-mini to read the links on a webpage, and respond in structured JSON.  \n",
    "It should decide which links are relevant, and replace relative links such as \"/about\" with \"https://company.com/about\".  \n",
    "We will use \"one shot prompting\" in which we provide an example of how it should respond in the prompt.\n",
    "\n",
    "This is an excellent use case for an LLM, because it requires nuanced understanding. Imagine trying to code this without LLMs by parsing and analyzing the webpage - it would be very hard!\n",
    "\n",
    "Sidenote: there is a more advanced technique called \"Structured Outputs\" in which we require the model to respond according to a spec. "
   ]
  },
  {
   "cell_type": "code",
   "execution_count": 6,
   "id": "6957b079-0d96-45f7-a26a-3487510e9b35",
   "metadata": {},
   "outputs": [],
   "source": [
    "link_system_prompt = \"You are provided with a list of links found on a webpage. \\\n",
    "You are able to decide which of the links would be most relevant to include in a brochure about the company, \\\n",
    "such as links to an About page, or a Company page, or Careers/Jobs pages.\\n\"\n",
    "link_system_prompt += \"You should respond in JSON as in this example:\"\n",
    "link_system_prompt += \"\"\"\n",
    "{\n",
    "    \"links\": [\n",
    "        {\"type\": \"about page\", \"url\": \"https://full.url/goes/here/about\"},\n",
    "        {\"type\": \"careers page\": \"url\": \"https://another.full.url/careers\"}\n",
    "    ]\n",
    "}\n",
    "\"\"\""
   ]
  },
  {
   "cell_type": "code",
   "execution_count": 7,
   "id": "b97e4068-97ed-4120-beae-c42105e4d59a",
   "metadata": {},
   "outputs": [
    {
     "name": "stdout",
     "output_type": "stream",
     "text": [
      "You are provided with a list of links found on a webpage. You are able to decide which of the links would be most relevant to include in a brochure about the company, such as links to an About page, or a Company page, or Careers/Jobs pages.\n",
      "You should respond in JSON as in this example:\n",
      "{\n",
      "    \"links\": [\n",
      "        {\"type\": \"about page\", \"url\": \"https://full.url/goes/here/about\"},\n",
      "        {\"type\": \"careers page\": \"url\": \"https://another.full.url/careers\"}\n",
      "    ]\n",
      "}\n",
      "\n"
     ]
    }
   ],
   "source": [
    "print(link_system_prompt)"
   ]
  },
  {
   "cell_type": "code",
   "execution_count": 9,
   "id": "8e1f601b-2eaf-499d-b6b8-c99050c9d6b3",
   "metadata": {},
   "outputs": [],
   "source": [
    "def get_links_user_prompt(website):\n",
    "    user_prompt = f\"Here is the list of links on the website of {website.url} - \"\n",
    "    user_prompt += \"please decide which of these are relevant web links for a brochure about the company, respond with the full https URL in JSON format. \\\n",
    "Do not include Terms of Service, Privacy, email links.\\n\"\n",
    "    user_prompt += \"Links (some might be relative links):\\n\"\n",
    "    user_prompt += \"\\n\".join(website.links)\n",
    "    return user_prompt"
   ]
  },
  {
   "cell_type": "code",
   "execution_count": null,
   "id": "6bcbfa78-6395-4685-b92c-22d592050fd7",
   "metadata": {},
   "outputs": [],
   "source": [
    "print(get_links_user_prompt(bpcs))"
   ]
  },
  {
   "cell_type": "code",
   "execution_count": 11,
   "id": "a29aca19-ca13-471c-a4b4-5abbfa813f69",
   "metadata": {},
   "outputs": [],
   "source": [
    "def get_links(url):\n",
    "    website = Website(url)\n",
    "    response = openai.chat.completions.create(\n",
    "        model=MODEL,\n",
    "        messages=[\n",
    "            {\"role\": \"system\", \"content\": link_system_prompt},\n",
    "            {\"role\": \"user\", \"content\": get_links_user_prompt(website)}\n",
    "      ],\n",
    "        response_format={\"type\": \"json_object\"}\n",
    "    )\n",
    "    result = response.choices[0].message.content\n",
    "    return json.loads(result)"
   ]
  },
  {
   "cell_type": "code",
   "execution_count": null,
   "id": "2e962688",
   "metadata": {},
   "outputs": [],
   "source": [
    "bpcs = Website(\"https://bpcs.com\")\n",
    "bpcs.links"
   ]
  },
  {
   "cell_type": "code",
   "execution_count": 14,
   "id": "cdd100e8",
   "metadata": {},
   "outputs": [
    {
     "data": {
      "text/plain": [
       "{'links': [{'type': 'company page', 'url': 'https://anthropiclabs.com'},\n",
       "  {'type': 'company page', 'url': 'https://anthropiclabs.com/'}]}"
      ]
     },
     "execution_count": 14,
     "metadata": {},
     "output_type": "execute_result"
    }
   ],
   "source": [
    "get_links(\"https://Anthropic.co\")"
   ]
  },
  {
   "cell_type": "code",
   "execution_count": 15,
   "id": "d3d583e2-dcc4-40cc-9b28-1e8dbf402924",
   "metadata": {},
   "outputs": [
    {
     "data": {
      "text/plain": [
       "{'links': [{'type': 'about page', 'url': 'https://huggingface.co/huggingface'},\n",
       "  {'type': 'careers page', 'url': 'https://apply.workable.com/huggingface/'},\n",
       "  {'type': 'blog', 'url': 'https://huggingface.co/blog'},\n",
       "  {'type': 'company page',\n",
       "   'url': 'https://www.linkedin.com/company/huggingface/'}]}"
      ]
     },
     "execution_count": 15,
     "metadata": {},
     "output_type": "execute_result"
    }
   ],
   "source": [
    "get_links(\"https://huggingface.co\")"
   ]
  },
  {
   "cell_type": "code",
   "execution_count": null,
   "id": "2720e350",
   "metadata": {},
   "outputs": [],
   "source": [
    "get_links(\"https://bpcs.com\")"
   ]
  },
  {
   "cell_type": "markdown",
   "id": "0d74128e-dfb6-47ec-9549-288b621c838c",
   "metadata": {},
   "source": [
    "## Second Step: make the brochure!\n",
    "\n",
    "Assemble all the details into another prompt to GPT4-o"
   ]
  },
  {
   "cell_type": "code",
   "execution_count": 17,
   "id": "85a5b6e2-e7ef-44a9-bc7f-59ede71037b5",
   "metadata": {},
   "outputs": [],
   "source": [
    "def get_all_details(url):\n",
    "    result = \"Landing page:\\n\"\n",
    "    result += Website(url).get_contents()\n",
    "    links = get_links(url)\n",
    "    print(\"Found links:\", links)\n",
    "    for link in links[\"links\"]:\n",
    "        result += f\"\\n\\n{link['type']}\\n\"\n",
    "        result += Website(link[\"url\"]).get_contents()\n",
    "    return result"
   ]
  },
  {
   "cell_type": "code",
   "execution_count": null,
   "id": "917a23be",
   "metadata": {},
   "outputs": [],
   "source": [
    "print(get_all_details(\"https://bpcs.com\"))"
   ]
  },
  {
   "cell_type": "code",
   "execution_count": null,
   "id": "5099bd14-076d-4745-baf3-dac08d8e5ab2",
   "metadata": {
    "scrolled": true
   },
   "outputs": [],
   "source": [
    "print(get_all_details(\"https://huggingface.co\"))"
   ]
  },
  {
   "cell_type": "code",
   "execution_count": 19,
   "id": "9b863a55-f86c-4e3f-8a79-94e24c1a8cf2",
   "metadata": {},
   "outputs": [],
   "source": [
    "system_prompt = \"You are an assistant that analyzes the contents of several relevant pages from a company website \\\n",
    "and creates a short brochure about the company for prospective customers, investors and recruits. Respond in markdown.\\\n",
    "Include details of company culture, customers and careers/jobs if you have the information.\"\n",
    "\n",
    "# Or uncomment the lines below for a more humorous brochure - this demonstrates how easy it is to incorporate 'tone':\n",
    "\n",
    "# system_prompt = \"You are an assistant that analyzes the contents of several relevant pages from a company website \\\n",
    "# and creates a short humorous, entertaining, jokey brochure about the company for prospective customers, investors and recruits. Respond in markdown.\\\n",
    "# Include details of company culture, customers and careers/jobs if you have the information.\"\n"
   ]
  },
  {
   "cell_type": "code",
   "execution_count": 20,
   "id": "6ab83d92-d36b-4ce0-8bcc-5bb4c2f8ff23",
   "metadata": {},
   "outputs": [],
   "source": [
    "def get_brochure_user_prompt(company_name, url):\n",
    "    user_prompt = f\"You are looking at a company called: {company_name}\\n\"\n",
    "    user_prompt += f\"Here are the contents of its landing page and other relevant pages; use this information to build a short brochure of the company in markdown.\\n\"\n",
    "    user_prompt += get_all_details(url)\n",
    "    user_prompt = user_prompt[:5_000] # Truncate if more than 5,000 characters\n",
    "    return user_prompt"
   ]
  },
  {
   "cell_type": "code",
   "execution_count": 21,
   "id": "cd909e0b-1312-4ce2-a553-821e795d7572",
   "metadata": {
    "scrolled": true
   },
   "outputs": [
    {
     "name": "stdout",
     "output_type": "stream",
     "text": [
      "Found links: {'links': [{'type': 'about page', 'url': 'https://huggingface.co/huggingface'}, {'type': 'careers page', 'url': 'https://apply.workable.com/huggingface/'}, {'type': 'enterprise page', 'url': 'https://huggingface.co/enterprise'}, {'type': 'pricing page', 'url': 'https://huggingface.co/pricing'}, {'type': 'blog page', 'url': 'https://huggingface.co/blog'}, {'type': 'discussion page', 'url': 'https://discuss.huggingface.co'}, {'type': 'status page', 'url': 'https://status.huggingface.co'}, {'type': 'GitHub page', 'url': 'https://github.com/huggingface'}, {'type': 'Twitter page', 'url': 'https://twitter.com/huggingface'}, {'type': 'LinkedIn page', 'url': 'https://www.linkedin.com/company/huggingface/'}]}\n"
     ]
    },
    {
     "data": {
      "text/plain": [
       "'You are looking at a company called: HuggingFace\\nHere are the contents of its landing page and other relevant pages; use this information to build a short brochure of the company in markdown.\\nLanding page:\\nWebpage Title:\\nHugging Face – The AI community building the future.\\nWebpage Contents:\\nHugging Face\\nModels\\nDatasets\\nSpaces\\nPosts\\nDocs\\nEnterprise\\nPricing\\nLog In\\nSign Up\\nThe AI community building the future.\\nThe platform where the machine learning community collaborates on models, datasets, and applications.\\nExplore AI Apps\\nor\\nBrowse 1M+ models\\nTrending on\\nthis week\\nModels\\nQwen/Qwen2.5-Omni-7B\\nUpdated\\n1 day ago\\n•\\n53k\\n•\\n998\\ndeepseek-ai/DeepSeek-V3-0324\\nUpdated\\n6 days ago\\n•\\n86.6k\\n•\\n2.18k\\nmanycore-research/SpatialLM-Llama-1B\\nUpdated\\n12 days ago\\n•\\n12.6k\\n•\\n844\\nds4sd/SmolDocling-256M-preview\\nUpdated\\n9 days ago\\n•\\n57.8k\\n•\\n1.09k\\nByteDance/InfiniteYou\\nUpdated\\n7 days ago\\n•\\n514\\nBrowse 1M+ models\\nSpaces\\nRunning\\n1.18k\\n1.18k\\nDeepSite\\n🐳\\nGenerate any application with DeepSeek\\nRunning\\non\\nZero\\n692\\n692\\nInfiniteYou-FLUX\\n📸\\nFlexible Photo Recrafting While Preserving Your Identity\\nRunning\\non\\nZero\\n209\\n209\\nHi3DGen\\n🏢\\nHigh-fidelity 3D Geometry Generation from images\\nRunning\\n201\\n201\\nQwen2.5 Omni 7B Demo\\n🏆\\nSubmit media inputs to generate text and speech responses\\nRunning\\non\\nZero\\n184\\n184\\nTripoSG\\n🔮\\nGenerate 3D models from images\\nBrowse 400k+ applications\\nDatasets\\nnvidia/Llama-Nemotron-Post-Training-Dataset-v1\\nUpdated\\n14 days ago\\n•\\n9.49k\\n•\\n291\\na-m-team/AM-DeepSeek-R1-Distilled-1.4M\\nUpdated\\n3 days ago\\n•\\n6k\\n•\\n94\\nglaiveai/reasoning-v1-20m\\nUpdated\\n13 days ago\\n•\\n7.91k\\n•\\n151\\nFreedomIntelligence/medical-o1-reasoning-SFT\\nUpdated\\nFeb 22\\n•\\n24.4k\\n•\\n587\\nAnthropic/EconomicIndex\\nUpdated\\n5 days ago\\n•\\n3.19k\\n•\\n238\\nBrowse 250k+ datasets\\nThe Home of Machine Learning\\nCreate, discover and collaborate on ML better.\\nThe collaboration platform\\nHost and collaborate on unlimited public models, datasets and applications.\\nMove faster\\nWith the HF Open source stack.\\nExplore all modalities\\nText, image, video, audio or even 3D.\\nBuild your portfolio\\nShare your work with the world and build your ML profile.\\nSign Up\\nAccelerate your ML\\nWe provide paid Compute and Enterprise solutions.\\nCompute\\nDeploy on optimized\\nInference Endpoints\\nor update your\\nSpaces applications\\nto a GPU in a few clicks.\\nView pricing\\nStarting at $0.60/hour for GPU\\nEnterprise\\nGive your team the most advanced platform to build AI with enterprise-grade security, access controls and\\n\\t\\t\\tdedicated support.\\nGetting started\\nStarting at $20/user/month\\nSingle Sign-On\\nRegions\\nPriority Support\\nAudit Logs\\nResource Groups\\nPrivate Datasets Viewer\\nMore than 50,000 organizations are using Hugging Face\\nAi2\\nEnterprise\\nnon-profit\\n•\\n396 models\\n•\\n2.99k followers\\nAI at Meta\\nEnterprise\\ncompany\\n•\\n2.07k models\\n•\\n5.33k followers\\nAmazon\\ncompany\\n•\\n10 models\\n•\\n2.93k followers\\nGoogle\\ncompany\\n•\\n974 models\\n•\\n10.8k followers\\nIntel\\ncompany\\n•\\n219 models\\n•\\n2.38k followers\\nMicrosoft\\ncompany\\n•\\n365 models\\n•\\n10.8k followers\\nGrammarly\\nEnterprise\\ncompany\\n•\\n10 models\\n•\\n148 followers\\nWriter\\nEnterprise\\ncompany\\n•\\n21 models\\n•\\n253 followers\\nOur Open Source\\nWe are building the foundation of ML tooling with the community.\\nTransformers\\n142,277\\nState-of-the-art ML for PyTorch, TensorFlow, JAX\\nDiffusers\\n28,365\\nState-of-the-art Diffusion models in PyTorch\\nSafetensors\\n3,198\\nSafe way to store/distribute neural network weights\\nHub Python Library\\n2,479\\nPython client to interact with the Hugging Face Hub\\nTokenizers\\n9,547\\nFast tokenizers optimized for research & production\\nTRL\\n12,971\\nTrain transformers LMs with reinforcement learning\\nTransformers.js\\n13,343\\nState-of-the-art ML running directly in your browser\\nsmolagents\\n16,181\\nSmol library to build great agents in Python\\nPEFT\\n17,975\\nParameter-efficient finetuning for large language models\\nDatasets\\n19,913\\nAccess & share datasets for any ML tasks\\nText Generation Inference\\n9,953\\nServe language models with TGI optimized toolkit\\nAccelerate\\n8,562\\nTrain PyTorch models with multi-GPU, TPU, mixed precision\\nSystem theme\\nWebsite\\nModels\\nDatasets\\nSpaces\\nTasks\\nInference Endpoints\\nHuggingChat\\nCompany\\nAbout\\nBrand assets\\nTerms of service\\nPrivacy\\nJobs\\nPress\\nResources\\nLearn\\nDocumentation\\nBlog\\nForum\\nService Status\\nSocial\\nGitHub\\nTwitter\\nLinkedIn\\nDiscord\\n\\n\\n\\nabout page\\nWebpage Title:\\nhuggingface (Hugging Face)\\nWebpage Contents:\\nHugging Face\\nModels\\nDatasets\\nSpaces\\nPosts\\nDocs\\nEnterprise\\nPricing\\nLog In\\nSign Up\\nHugging Face\\nEnterprise\\ncompany\\nVerified\\nhttps://huggingface.co\\nhuggingface\\nhuggingface\\nActivity Feed\\nFollow\\n29,048\\nAI & ML interests\\nThe AI community building the future.\\nRecent Activity\\njulien-c\\nnew\\nactivity\\nabout 5 hours ago\\nhuggingface/HuggingDiscussions:\\nmanycore-research/SpatialLM-Llama-1B\\njulien-c\\nnew\\nactivity\\nabout 5 hours ago\\nhuggingface/HuggingDiscussions:\\nUpload sample-random.txt\\njulien-c\\nnew\\nactivity\\nabout 5 hours ago\\nhuggingface/HuggingDiscussions:\\nUpload sample-random.txt\\nView all activity\\nArticles\\nYay! Organizations can now publish blog Articles\\nJan 20\\n•\\n37\\nTeam members\\n208\\n+174\\n+161\\n+140\\n+130\\n+110\\nOrganization Card\\nComm'"
      ]
     },
     "execution_count": 21,
     "metadata": {},
     "output_type": "execute_result"
    }
   ],
   "source": [
    "get_brochure_user_prompt(\"HuggingFace\", \"https://huggingface.co\")"
   ]
  },
  {
   "cell_type": "code",
   "execution_count": 22,
   "id": "e44de579-4a1a-4e6a-a510-20ea3e4b8d46",
   "metadata": {},
   "outputs": [],
   "source": [
    "def create_brochure(company_name, url):\n",
    "    response = openai.chat.completions.create(\n",
    "        model=MODEL,\n",
    "        messages=[\n",
    "            {\"role\": \"system\", \"content\": system_prompt},\n",
    "            {\"role\": \"user\", \"content\": get_brochure_user_prompt(company_name, url)}\n",
    "          ],\n",
    "    )\n",
    "    result = response.choices[0].message.content\n",
    "    display(Markdown(result))"
   ]
  },
  {
   "cell_type": "code",
   "execution_count": 23,
   "id": "dd19302c",
   "metadata": {},
   "outputs": [
    {
     "name": "stdout",
     "output_type": "stream",
     "text": [
      "Found links: {'links': [{'type': 'about page', 'url': 'https://bpcs.com/our-approach'}, {'type': 'careers page', 'url': 'https://bpcs.com/careers'}, {'type': 'services page', 'url': 'https://bpcs.com/application-development'}, {'type': 'services page', 'url': 'https://bpcs.com/cloud-and-infrastructure'}, {'type': 'services page', 'url': 'https://bpcs.com/data-platform-modernization'}, {'type': 'services page', 'url': 'https://bpcs.com/data-governance'}, {'type': 'services page', 'url': 'https://bpcs.com/data-management'}, {'type': 'services page', 'url': 'https://bpcs.com/data-science'}, {'type': 'services page', 'url': 'https://bpcs.com/intelligent-sop'}, {'type': 'services page', 'url': 'https://bpcs.com/video-analytics'}, {'type': 'services page', 'url': 'https://bpcs.com/lakehouse-optimization'}, {'type': 'services page', 'url': 'https://bpcs.com/data-migration-experts'}]}\n"
     ]
    },
    {
     "data": {
      "text/markdown": [
       "# Blueprint Technologies Brochure\n",
       "\n",
       "## Delivering Intelligence that Matters\n",
       "\n",
       "### Who We Are\n",
       "Blueprint Technologies is at the forefront of technological innovation, providing a range of services powered by Artificial Intelligence, data analytics, and cloud infrastructure. Our mission is to deliver intelligence that transforms businesses, drives efficiency, and enables innovation across various industries.\n",
       "\n",
       "### Our Solutions\n",
       "We specialize in a comprehensive array of services tailored to meet the unique challenges of diverse sectors:\n",
       "\n",
       "- **Artificial Intelligence:** Implementing cutting-edge AI solutions, including generative AI and intelligent Standard Operating Procedures (SOPs).\n",
       "- **Engineering & Application Development:** Developing robust applications and modernizing cloud infrastructure.\n",
       "- **Data & Analytics:** From data platform modernization to governance and migration, we optimize data management to drive actionable insights.\n",
       "- **Industry-Specific Solutions:** \n",
       "  - **Manufacturing**: Boosting productivity and operational efficiency.\n",
       "  - **Retail**: Creating seamless shopping journeys.\n",
       "  - **Financial Services**: Enhancing security and customer personalization.\n",
       "  - **Health & Life Sciences**: Improving healthcare outcomes and innovation.\n",
       "  - **CMEG**: Transforming digital experiences with AI.\n",
       "  - **Federal Government**: Advancing IT modernization and cybersecurity.\n",
       "\n",
       "### Our Approach\n",
       "At Blueprint Technologies, we believe that providing the right information to the right people at the right time can change lives and innovate industries. Our holistic approach uncovers strategic opportunities to maximize value for organizations swiftly and efficiently.\n",
       "\n",
       "### Success Stories\n",
       "We pride ourselves on delivering transformative solutions:\n",
       "- **Case Study**: A national convenience store chain's data strategy was modernized, enabling quicker insights and agile reporting.\n",
       "- **Client Snapshot**: Implemented a medical service pricing transparency platform that resulted in $140k annual cloud savings.\n",
       "\n",
       "### Company Culture\n",
       "Our culture is built on collaboration, innovation, and a commitment to delivering excellence. We encourage our team to tackle complex challenges and foster an environment where creativity thrives. The spirit of teamwork drives our success, and we celebrate diversity in thoughts and perspectives.\n",
       "\n",
       "### Join Our Team\n",
       "At Blueprint Technologies, we are always on the lookout for passionate individuals ready to make an impact. Explore exciting career opportunities to solve unique challenges and help shape the future of technology. \n",
       "\n",
       "**Apply Today! [Join Us](#)**\n",
       "\n",
       "### Connect With Us\n",
       "Stay updated on industry insights, webinars, and company news:\n",
       "- **Insights & Thought Leadership**: Visit our [blog](#) for the latest in tech industry trends.\n",
       "- **Upcoming Events**: Don't miss our informative [webinars](#) designed to enhance your knowledge.\n",
       "\n",
       "---\n",
       "\n",
       "For more information about our services and how we can help your business thrive, please visit [Blueprint Technologies](#). \n",
       "\n",
       "Together, let's deliver intelligence that matters!"
      ],
      "text/plain": [
       "<IPython.core.display.Markdown object>"
      ]
     },
     "metadata": {},
     "output_type": "display_data"
    }
   ],
   "source": [
    "create_brochure(\"Blueprint Technologies\", \"https://bpcs.com\")"
   ]
  },
  {
   "cell_type": "code",
   "execution_count": 19,
   "id": "e093444a-9407-42ae-924a-145730591a39",
   "metadata": {},
   "outputs": [
    {
     "name": "stdout",
     "output_type": "stream",
     "text": [
      "Found links: {'links': [{'type': 'about page', 'url': 'https://huggingface.co/huggingface'}, {'type': 'careers page', 'url': 'https://apply.workable.com/huggingface/'}, {'type': 'enterprise page', 'url': 'https://huggingface.co/enterprise'}, {'type': 'pricing page', 'url': 'https://huggingface.co/pricing'}, {'type': 'blog page', 'url': 'https://huggingface.co/blog'}, {'type': 'discussion forum', 'url': 'https://discuss.huggingface.co'}, {'type': 'GitHub page', 'url': 'https://github.com/huggingface'}, {'type': 'Twitter page', 'url': 'https://twitter.com/huggingface'}, {'type': 'LinkedIn page', 'url': 'https://www.linkedin.com/company/huggingface/'}]}\n"
     ]
    },
    {
     "data": {
      "text/markdown": [
       "# Hugging Face: Connecting the AI Community\n",
       "\n",
       "### Welcome to Hugging Face\n",
       "Hugging Face is a leading platform in the field of artificial intelligence and machine learning, dedicated to building collaborative tools for the community. Our mission is simple: to empower and support the creators, researchers, and innovators shaping the future of AI.\n",
       "\n",
       "---\n",
       "\n",
       "### What We Offer\n",
       "- **Models:** Access a vast library of over 1 million models, enabling efficient experimentation and deployment in various applications.\n",
       "- **Datasets:** Browse through more than 250,000 datasets tailored for machine learning tasks across multiple modalities—text, image, video, audio, and 3D.\n",
       "- **Spaces:** Create and share applications in an interactive environment, fostering collaboration among developers and data scientists.\n",
       "\n",
       "---\n",
       "\n",
       "### Our Customers\n",
       "Join a diverse group of over 50,000 organizations utilizing Hugging Face, including industry giants like:\n",
       "- **Meta**\n",
       "- **Amazon Web Services**\n",
       "- **Google**\n",
       "- **Microsoft**\n",
       "- **Intel**\n",
       "- **Grammarly**\n",
       "\n",
       "---\n",
       "\n",
       "### Company Culture\n",
       "At Hugging Face, we pride ourselves on fostering an inclusive and dynamic work environment. Our culture emphasizes:\n",
       "- **Collaboration:** We believe in collective intelligence. Our platform encourages teamwork and knowledge sharing.\n",
       "- **Innovation:** We are at the forefront of AI research and applications, driving technological advancements and exploration.\n",
       "- **Community Driven:** Our open-source nature allows users to contribute to and benefit from shared knowledge, helping all members grow and succeed.\n",
       "\n",
       "---\n",
       "\n",
       "### Careers at Hugging Face\n",
       "We are continuously looking for passionate individuals to join our team. Whether you're a data scientist, ML engineer, or product manager, there are various opportunities to grow within our organization. Explore our [careers page](https://huggingface.co/jobs) to learn more about joining our community.\n",
       "\n",
       "---\n",
       "\n",
       "### Join Us\n",
       "Be part of the AI revolution. Whether you’re a researcher, developer, or an enthusiast, Hugging Face is here to support your journey in artificial intelligence. Explore our [platform](https://huggingface.co) today and start collaborating with a vibrant community!\n",
       "\n",
       "--- \n",
       "\n",
       "For more information, follow us on [GitHub](https://github.com), [Twitter](https://twitter.com), and [LinkedIn](https://linkedin.com) for the latest updates and developments."
      ],
      "text/plain": [
       "<IPython.core.display.Markdown object>"
      ]
     },
     "metadata": {},
     "output_type": "display_data"
    }
   ],
   "source": [
    "create_brochure(\"HuggingFace\", \"https://huggingface.co\")"
   ]
  },
  {
   "cell_type": "markdown",
   "id": "61eaaab7-0b47-4b29-82d4-75d474ad8d18",
   "metadata": {},
   "source": [
    "## Finally - a minor improvement\n",
    "\n",
    "**With a small adjustment, we can change this so that the results *stream* back from *OpenAI*, with the familiar typewriter animation**"
   ]
  },
  {
   "cell_type": "code",
   "execution_count": 24,
   "id": "51db0e49-f261-4137-aabe-92dd601f7725",
   "metadata": {},
   "outputs": [],
   "source": [
    "def stream_brochure(company_name, url):\n",
    "    stream = openai.chat.completions.create(\n",
    "        model=MODEL,\n",
    "        messages=[\n",
    "            {\"role\": \"system\", \"content\": system_prompt},\n",
    "            {\"role\": \"user\", \"content\": get_brochure_user_prompt(company_name, url)}\n",
    "          ],\n",
    "        stream=True\n",
    "    )\n",
    "    \n",
    "    response = \"\"\n",
    "    display_handle = display(Markdown(\"\"), display_id=True)\n",
    "    for chunk in stream:\n",
    "        response += chunk.choices[0].delta.content or ''\n",
    "        response = response.replace(\"```\",\"\").replace(\"markdown\", \"\")\n",
    "        update_display(Markdown(response), display_id=display_handle.display_id)"
   ]
  },
  {
   "cell_type": "code",
   "execution_count": 21,
   "id": "56bf0ae3-ee9d-4a72-9cd6-edcac67ceb6d",
   "metadata": {},
   "outputs": [
    {
     "name": "stdout",
     "output_type": "stream",
     "text": [
      "Found links: {'links': [{'type': 'about page', 'url': 'https://huggingface.co/huggingface'}, {'type': 'careers page', 'url': 'https://apply.workable.com/huggingface/'}, {'type': 'enterprise page', 'url': 'https://huggingface.co/enterprise'}, {'type': 'pricing page', 'url': 'https://huggingface.co/pricing'}, {'type': 'blog page', 'url': 'https://huggingface.co/blog'}, {'type': 'documentation page', 'url': 'https://huggingface.co/docs'}]}\n"
     ]
    },
    {
     "data": {
      "text/markdown": [
       "# Hugging Face Brochure\n",
       "\n",
       "## Welcome to Hugging Face\n",
       "\n",
       "**The AI community building the future.**  \n",
       "Hugging Face serves as a collaboration platform for the machine learning community, assisting in the creation, discovery, and sharing of models, datasets, and applications. Our tools are at the forefront of AI innovation, welcoming diverse users from researchers to enterprise organizations.\n",
       "\n",
       "---\n",
       "\n",
       "### Our Offerings\n",
       "\n",
       "#### **Models**  \n",
       "Explore over **1M+ models** covering various modalities including text, images, video, audio, and even 3D.\n",
       "\n",
       "#### **Datasets**  \n",
       "Access **250k+ datasets** designed for multiple ML tasks, facilitating better training and application of AI.\n",
       "\n",
       "#### **Spaces**  \n",
       "Create and run interactive applications through our **Spaces** platform, making it easier to generate and experiment with ML ideas in real time.\n",
       "\n",
       "#### **Enterprise Solutions**  \n",
       "Over **50,000 organizations** leverage Hugging Face for its enterprise-grade security, dedicated support, and optimized compute resources, which you can access starting at **$20/user/month**.\n",
       "\n",
       "#### **Open Source Tools**  \n",
       "Join the movement to build tooling for machine learning with our open-source libraries:\n",
       "- **Transformers**: Cutting-edge models for PyTorch, TensorFlow, and JAX.\n",
       "- **Diffusers**: State-of-the-art models for image and audio generation.\n",
       "\n",
       "---\n",
       "\n",
       "### Company Culture\n",
       "\n",
       "At Hugging Face, we foster an inclusive and innovative culture. Our team thrives on collaboration, community engagement, and a shared passion for advancing AI technologies. We believe in contributing to open-source projects and prioritize transparent processes to elevate collective knowledge.\n",
       "\n",
       "---\n",
       "\n",
       "### Our Customers\n",
       "\n",
       "Hugging Face is trusted by industry leaders such as:\n",
       "- **Microsoft**\n",
       "- **Google**\n",
       "- **Amazon Web Services**\n",
       "- **Meta**\n",
       "\n",
       "These partnerships highlight our commitment to providing advanced tools that accommodate the diverse needs of those at the forefront of AI research and application.\n",
       "\n",
       "---\n",
       "\n",
       "### Join Our Team\n",
       "\n",
       "Hugging Face is on the lookout for **talented individuals** who share our passion for AI and open-source technology. Explore open positions in software engineering, data science, and more on our **Jobs** page. We encourage diversity and seek innovators who strive to push the boundaries of what’s possible in machine learning.\n",
       "\n",
       "---\n",
       "\n",
       "### Connect With Us\n",
       "Ready to explore the future of AI?  \n",
       "Visit us at [Hugging Face](https://huggingface.co) to learn more about our services, community initiatives, and career opportunities.\n",
       "\n",
       "---\n",
       "\n",
       "**Hugging Face - Together, we're building the future of AI.**  \n"
      ],
      "text/plain": [
       "<IPython.core.display.Markdown object>"
      ]
     },
     "metadata": {},
     "output_type": "display_data"
    }
   ],
   "source": [
    "stream_brochure(\"HuggingFace\", \"https://huggingface.co\")"
   ]
  },
  {
   "cell_type": "markdown",
   "id": "fb5531c0",
   "metadata": {},
   "source": [
    "## Let's add a bit of humor to our brochure by modifying the *system_prompt*\n",
    "This actually demonstrates how easy it is to incorporate 'tone'"
   ]
  },
  {
   "cell_type": "code",
   "execution_count": 26,
   "id": "b8d3e1a1-ba54-4907-97c5-30f89a24775b",
   "metadata": {},
   "outputs": [],
   "source": [
    "\n",
    "system_prompt = \"You are an assistant that analyzes the contents of several relevant pages from a company website \\\n",
    "and creates a short humorous, entertaining, jokey brochure about the company for prospective customers, investors and recruits. Respond in markdown.\\\n",
    "Include details of company culture, customers and careers/jobs if you have the information.\"\n"
   ]
  },
  {
   "cell_type": "code",
   "execution_count": 27,
   "id": "f3b87e44",
   "metadata": {},
   "outputs": [
    {
     "name": "stdout",
     "output_type": "stream",
     "text": [
      "Found links: {'links': [{'type': 'about page', 'url': 'https://huggingface.co/huggingface'}, {'type': 'careers page', 'url': 'https://apply.workable.com/huggingface/'}, {'type': 'enterprise page', 'url': 'https://huggingface.co/enterprise'}, {'type': 'pricing page', 'url': 'https://huggingface.co/pricing'}, {'type': 'blog page', 'url': 'https://huggingface.co/blog'}, {'type': 'community forum', 'url': 'https://discuss.huggingface.co'}, {'type': 'GitHub page', 'url': 'https://github.com/huggingface'}, {'type': 'LinkedIn page', 'url': 'https://www.linkedin.com/company/huggingface/'}, {'type': 'Twitter page', 'url': 'https://twitter.com/huggingface'}]}\n"
     ]
    },
    {
     "data": {
      "text/markdown": [
       "\n",
       "# Welcome to Hugging Face: The AI Community Building the Future! 🚀\n",
       "\n",
       "## Get Ready to Hug It Out!\n",
       "\n",
       "Are you ready to embrace the future with a bear hug of innovation? At **Hugging Face**, we’re all about building a community of intelligent minds (and intelligent machines) who are as passionate about AI as they are comfortable with a good pun. Whether you're a budding data scientist, a seasoned engineer, or just someone who appreciates hugging imaginary faces, there's a place for you here!\n",
       "\n",
       "### What We Offer\n",
       "\n",
       "- **1M+ Models:** That’s right! We have a model for all occasions, from \"How to ruin dinner with bad datasets\" to \"Impress your boss with machine learning wizardry!\"\n",
       "  \n",
       "- **250k+ Datasets:** Our library has more than enough data to keep your algorithms busy. Feeling adventurous? You can even say you’ve been “data-diving” while scoring those datasets!\n",
       "\n",
       "- **Countless Applications:** Dive into **Spaces!** Whether it’s generating 3D models or crafting the perfect meme generator, you’ll find where tech and creativity collide!\n",
       "\n",
       "### Company Culture: We Hug, Therefore We Are! 🤗\n",
       "\n",
       "- **Collaborative Community:** Think of us as the friendship ball of AI—every time you pass ideas around, you get smarter. We even have our own **HuggingChat** so you can chat as snugly as you like!\n",
       "\n",
       "- **Open Source Spirit:** We believe sharing is caring, especially when it comes to ML tools. Our open-source libraries are like candy—sweet, satisfying, and meant for sharing!\n",
       "\n",
       "- **Flexible Working Environment:** Tired of rigid office hours? With us, you can work anywhere from your cozy couch to your favorite coffee shop as long as you keep that creativity flowing!\n",
       "\n",
       "### Join the Cool Kids in AI 🌟\n",
       "\n",
       "- **Careers:** Expand your horizons with a job at Hugging Face! We’re on the lookout for AI aficionados who want to sprinkle a little stardust over models and datasets. Bonus points if you can name at least three animated movies involving talking toys!\n",
       "\n",
       "- **Diversity Matters:** We appreciate different flavors and backgrounds! Our team is as diverse as the models we host— come be part of a melting pot of talents, ideas, and yes, spirited discussions!\n",
       "\n",
       "### Our Customers: The Who’s Who of Tech 🌍\n",
       "\n",
       "Join **50,000+ organizations** that are already part of the Hugging Face family, including major players like **Google, Microsoft, and even Santa’s Workshop (if they ever decided to go digital)**! They trust us to keep their AI solutions fresh out of the oven and full of creativity!\n",
       "\n",
       "---\n",
       "\n",
       "So, what are you waiting for? Come give us a virtual hug by signing up today! Let’s build the future together, one smile and one model at a time! \n",
       "\n",
       "**[Sign Up Here!](https://huggingface.co/)**\n",
       "\n",
       "---\n",
       "\n",
       "*Hugging Face: Because a day without AI is like a day without sunshine! (And who wants to be in the dark?)*\n"
      ],
      "text/plain": [
       "<IPython.core.display.Markdown object>"
      ]
     },
     "metadata": {},
     "output_type": "display_data"
    }
   ],
   "source": [
    "stream_brochure(\"HuggingFace\", \"https://huggingface.co\")"
   ]
  },
  {
   "cell_type": "markdown",
   "id": "a27bf9e0-665f-4645-b66b-9725e2a959b5",
   "metadata": {},
   "source": [
    "<table style=\"margin: 0; text-align: left;\">\n",
    "    <tr>\n",
    "        <td style=\"width: 150px; height: 150px; vertical-align: middle;\">\n",
    "            <img src=\"../images/business.jpg\" width=\"150\" height=\"150\" style=\"display: block;\" />\n",
    "        </td>\n",
    "        <td>\n",
    "            <h2 style=\"color:#181;\">Business applications</h2>\n",
    "            <span style=\"color:#181;\">In this notebook the code for Scraper Summarizer project is extended to make multiple LLM calls, and generate a document.\n",
    "\n",
    "This is also an example of Agentic AI design patterns, as we combined multiple calls to LLMs.\n",
    "\n",
    "Generating content in this way is one of the very most common Use Cases. As with summarization, this can be applied to any business vertical. Write marketing content, generate a product tutorial from a spec, create personalized email content, and so much more. Explore how you can apply content generation to your business, and try making yourself a proof-of-concept prototype.</span>\n",
    "        </td>\n",
    "    </tr>\n",
    "</table>"
   ]
  },
  {
   "cell_type": "code",
   "execution_count": null,
   "id": "b21c4035",
   "metadata": {},
   "outputs": [],
   "source": []
  }
 ],
 "metadata": {
  "kernelspec": {
   "display_name": "Python 3",
   "language": "python",
   "name": "python3"
  },
  "language_info": {
   "codemirror_mode": {
    "name": "ipython",
    "version": 3
   },
   "file_extension": ".py",
   "mimetype": "text/x-python",
   "name": "python",
   "nbconvert_exporter": "python",
   "pygments_lexer": "ipython3",
   "version": "3.11.11"
  }
 },
 "nbformat": 4,
 "nbformat_minor": 5
}
