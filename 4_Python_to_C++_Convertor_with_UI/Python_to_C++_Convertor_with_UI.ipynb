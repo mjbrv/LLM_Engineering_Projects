{
 "cells": [
  {
   "cell_type": "markdown",
   "id": "4a6ab9a2-28a2-445d-8512-a0dc8d1b54e9",
   "metadata": {},
   "source": [
    "# Code Generator\n",
    "\n",
    "The requirement: use a Frontier model to generate high performance C++ code from Python code\n"
   ]
  },
  {
   "cell_type": "code",
   "execution_count": 1,
   "id": "e610bf56-a46e-4aff-8de1-ab49d62b1ad3",
   "metadata": {},
   "outputs": [],
   "source": [
    "# imports\n",
    "\n",
    "import os\n",
    "import io\n",
    "import sys\n",
    "from dotenv import load_dotenv\n",
    "from openai import OpenAI\n",
    "import google.generativeai\n",
    "import anthropic\n",
    "from IPython.display import Markdown, display, update_display\n",
    "import gradio as gr\n",
    "import subprocess"
   ]
  },
  {
   "cell_type": "code",
   "execution_count": 2,
   "id": "4f672e1c-87e9-4865-b760-370fa605e614",
   "metadata": {},
   "outputs": [],
   "source": [
    "# environment\n",
    "\n",
    "load_dotenv()\n",
    "os.environ['OPENAI_API_KEY'] = os.getenv('OPENAI_API_KEY', 'your-key-if-not-using-env')\n",
    "os.environ['ANTHROPIC_API_KEY'] = os.getenv('ANTHROPIC_API_KEY', 'your-key-if-not-using-env')"
   ]
  },
  {
   "cell_type": "code",
   "execution_count": 3,
   "id": "8aa149ed-9298-4d69-8fe2-8f5de0f667da",
   "metadata": {},
   "outputs": [],
   "source": [
    "# initialize\n",
    "# NOTE - option to use ultra-low cost models by uncommenting last 2 lines\n",
    "\n",
    "openai = OpenAI()\n",
    "claude = anthropic.Anthropic()\n",
    "OPENAI_MODEL = \"gpt-4o\"\n",
    "CLAUDE_MODEL = \"claude-3-5-sonnet-20240620\"\n",
    "\n",
    "# Want to keep costs ultra-low? Uncomment these lines:\n",
    "# OPENAI_MODEL = \"gpt-4o-mini\"\n",
    "# CLAUDE_MODEL = \"claude-3-haiku-20240307\""
   ]
  },
  {
   "cell_type": "code",
   "execution_count": 4,
   "id": "6896636f-923e-4a2c-9d6c-fac07828a201",
   "metadata": {},
   "outputs": [],
   "source": [
    "system_message = \"You are an assistant that reimplements Python code in high performance C++ for an M1 Mac. \"\n",
    "system_message += \"Respond only with C++ code; use comments sparingly and do not provide any explanation other than occasional comments. \"\n",
    "system_message += \"The C++ response needs to produce an identical output in the fastest possible time.\""
   ]
  },
  {
   "cell_type": "code",
   "execution_count": 5,
   "id": "8e7b3546-57aa-4c29-bc5d-f211970d04eb",
   "metadata": {},
   "outputs": [],
   "source": [
    "def user_prompt_for(python):\n",
    "    user_prompt = \"Rewrite this Python code in C++ with the fastest possible implementation that produces identical output in the least time. \"\n",
    "    user_prompt += \"Respond only with C++ code; do not explain your work other than a few comments. \"\n",
    "    user_prompt += \"Pay attention to number types to ensure no int overflows. Remember to #include all necessary C++ packages such as iomanip.\\n\\n\"\n",
    "    user_prompt += python\n",
    "    return user_prompt"
   ]
  },
  {
   "cell_type": "code",
   "execution_count": 6,
   "id": "c6190659-f54c-4951-bef4-4960f8e51cc4",
   "metadata": {},
   "outputs": [],
   "source": [
    "def messages_for(python):\n",
    "    return [\n",
    "        {\"role\": \"system\", \"content\": system_message},\n",
    "        {\"role\": \"user\", \"content\": user_prompt_for(python)}\n",
    "    ]"
   ]
  },
  {
   "cell_type": "code",
   "execution_count": 7,
   "id": "71e1ba8c-5b05-4726-a9f3-8d8c6257350b",
   "metadata": {},
   "outputs": [],
   "source": [
    "# write to a file called optimized.cpp\n",
    "\n",
    "def write_output(cpp):\n",
    "    code = cpp.replace(\"```cpp\",\"\").replace(\"```\",\"\")\n",
    "    with open(\"optimized.cpp\", \"w\") as f:\n",
    "        f.write(code)"
   ]
  },
  {
   "cell_type": "code",
   "execution_count": 8,
   "id": "e7d2fea8-74c6-4421-8f1e-0e76d5b201b9",
   "metadata": {},
   "outputs": [],
   "source": [
    "def optimize_gpt(python):    \n",
    "    stream = openai.chat.completions.create(model=OPENAI_MODEL, messages=messages_for(python), stream=True)\n",
    "    reply = \"\"\n",
    "    for chunk in stream:\n",
    "        fragment = chunk.choices[0].delta.content or \"\"\n",
    "        reply += fragment\n",
    "        print(fragment, end='', flush=True)\n",
    "    write_output(reply)"
   ]
  },
  {
   "cell_type": "code",
   "execution_count": 9,
   "id": "7cd84ad8-d55c-4fe0-9eeb-1895c95c4a9d",
   "metadata": {},
   "outputs": [],
   "source": [
    "def optimize_claude(python):\n",
    "    result = claude.messages.stream(\n",
    "        model=CLAUDE_MODEL,\n",
    "        max_tokens=2000,\n",
    "        system=system_message,\n",
    "        messages=[{\"role\": \"user\", \"content\": user_prompt_for(python)}],\n",
    "    )\n",
    "    reply = \"\"\n",
    "    with result as stream:\n",
    "        for text in stream.text_stream:\n",
    "            reply += text\n",
    "            print(text, end=\"\", flush=True)\n",
    "    write_output(reply)"
   ]
  },
  {
   "cell_type": "code",
   "execution_count": 10,
   "id": "a1cbb778-fa57-43de-b04b-ed523f396c38",
   "metadata": {},
   "outputs": [],
   "source": [
    "pi = \"\"\"\n",
    "import time\n",
    "\n",
    "def calculate(iterations, param1, param2):\n",
    "    result = 1.0\n",
    "    for i in range(1, iterations+1):\n",
    "        j = i * param1 - param2\n",
    "        result -= (1/j)\n",
    "        j = i * param1 + param2\n",
    "        result += (1/j)\n",
    "    return result\n",
    "\n",
    "start_time = time.time()\n",
    "result = calculate(100_000_000, 4, 1) * 4\n",
    "end_time = time.time()\n",
    "\n",
    "print(f\"Result: {result:.12f}\")\n",
    "print(f\"Execution Time: {(end_time - start_time):.6f} seconds\")\n",
    "\"\"\""
   ]
  },
  {
   "cell_type": "code",
   "execution_count": 11,
   "id": "7fe1cd4b-d2c5-4303-afed-2115a3fef200",
   "metadata": {},
   "outputs": [
    {
     "name": "stdout",
     "output_type": "stream",
     "text": [
      "Result: 3.141592658589\n",
      "Execution Time: 15.232382 seconds\n"
     ]
    }
   ],
   "source": [
    "exec(pi)"
   ]
  },
  {
   "cell_type": "code",
   "execution_count": 12,
   "id": "105db6f9-343c-491d-8e44-3a5328b81719",
   "metadata": {},
   "outputs": [
    {
     "name": "stdout",
     "output_type": "stream",
     "text": [
      "```cpp\n",
      "#include <iostream>\n",
      "#include <iomanip>\n",
      "#include <chrono>\n",
      "\n",
      "// Perform the calculation\n",
      "double calculate(int iterations, int param1, int param2) {\n",
      "    double result = 1.0;\n",
      "    for (int i = 1; i <= iterations; ++i) {\n",
      "        // Subtract and add the reciprocal calculations\n",
      "        result -= 1.0 / (i * param1 - param2);\n",
      "        result += 1.0 / (i * param1 + param2);\n",
      "    }\n",
      "    return result;\n",
      "}\n",
      "\n",
      "int main() {\n",
      "    // Start measuring time\n",
      "    auto start_time = std::chrono::high_resolution_clock::now();\n",
      "    \n",
      "    // Compute the result\n",
      "    double result = calculate(100'000'000, 4, 1) * 4;\n",
      "    \n",
      "    // End measuring time\n",
      "    auto end_time = std::chrono::high_resolution_clock::now();\n",
      "    \n",
      "    // Calculate the elapsed time\n",
      "    std::chrono::duration<double> elapsed = end_time - start_time;\n",
      "    \n",
      "    // Output the results with the required precision\n",
      "    std::cout << std::fixed << std::setprecision(12)\n",
      "              << \"Result: \" << result << std::endl\n",
      "              << \"Execution Time: \" << elapsed.count() << \" seconds\" << std::endl;\n",
      "\n",
      "    return 0;\n",
      "}\n",
      "```"
     ]
    }
   ],
   "source": [
    "optimize_gpt(pi)"
   ]
  },
  {
   "cell_type": "markdown",
   "id": "bf8f8018-f64d-425c-a0e1-d7862aa9592d",
   "metadata": {},
   "source": [
    "# Compiling C++ and executing\n",
    "\n",
    "This next cell contains the command to compile a C++ file on my M1 Mac.  \n",
    "It compiles the file `optimized.cpp` into an executable called `optimized`  \n",
    "Then it runs the program called `optimized`"
   ]
  },
  {
   "cell_type": "code",
   "execution_count": 46,
   "id": "2fbd33a8",
   "metadata": {},
   "outputs": [],
   "source": [
    "def execute_cpp(code):\n",
    "    write_output(code)\n",
    "    try:\n",
    "        compile_cmd = [\"clang++\", \"-O3\", \"-std=c++17\", \"-march=native\", \"-o\", \"optimized\", \"optimized.cpp\"]\n",
    "        compile_result = subprocess.run(compile_cmd, check=True, text=True, capture_output=True)\n",
    "        run_cmd = [\"./optimized\"]\n",
    "        run_result = subprocess.run(run_cmd, check=True, text=True, capture_output=True)\n",
    "        return run_result.stdout\n",
    "    except subprocess.CalledProcessError as e:\n",
    "        return f\"An error occurred:\\n{e.stderr}\""
   ]
  },
  {
   "cell_type": "code",
   "execution_count": 15,
   "id": "0ef357c7",
   "metadata": {},
   "outputs": [
    {
     "name": "stdout",
     "output_type": "stream",
     "text": [
      "Result: 3.141592658589\n",
      "Execution Time: 0.212962553000 seconds\n"
     ]
    }
   ],
   "source": [
    "# For Intel/AMD processors, use this compilation command instead:\n",
    "!g++ -O3 -std=c++17 -march=native -o optimized optimized.cpp\n",
    "!./optimized"
   ]
  },
  {
   "cell_type": "code",
   "execution_count": 16,
   "id": "3fa08a40",
   "metadata": {},
   "outputs": [
    {
     "name": "stdout",
     "output_type": "stream",
     "text": [
      "Result: 3.141592658589\n",
      "Execution Time: 0.218579615000 seconds\n"
     ]
    }
   ],
   "source": [
    "!clang++ -O3 -std=c++17 -march=native -o optimized optimized.cpp\n",
    "!./optimized"
   ]
  },
  {
   "cell_type": "code",
   "execution_count": 19,
   "id": "6b56e0b4",
   "metadata": {},
   "outputs": [],
   "source": [
    "code_gpt = \"\"\"\n",
    "#include <iostream>\n",
    "#include <iomanip>\n",
    "#include <chrono>\n",
    "\n",
    "// Perform the calculation\n",
    "double calculate(int iterations, int param1, int param2) {\n",
    "    double result = 1.0;\n",
    "    for (int i = 1; i <= iterations; ++i) {\n",
    "        // Subtract and add the reciprocal calculations\n",
    "        result -= 1.0 / (i * param1 - param2);\n",
    "        result += 1.0 / (i * param1 + param2);\n",
    "    }\n",
    "    return result;\n",
    "}\n",
    "\n",
    "int main() {\n",
    "    // Start measuring time\n",
    "    auto start_time = std::chrono::high_resolution_clock::now();\n",
    "    \n",
    "    // Compute the result\n",
    "    double result = calculate(100'000'000, 4, 1) * 4;\n",
    "    \n",
    "    // End measuring time\n",
    "    auto end_time = std::chrono::high_resolution_clock::now();\n",
    "    \n",
    "    // Calculate the elapsed time\n",
    "    std::chrono::duration<double> elapsed = end_time - start_time;\n",
    "    \n",
    "    // Output the results with the required precision\n",
    "    std::cout << std::fixed << std::setprecision(12)\n",
    "              << \"Result: \" << result << std::endl\n",
    "              << \"Execution Time: \" << elapsed.count() << \" seconds\" << std::endl;\n",
    "\n",
    "    return 0;\n",
    "}\n",
    "\"\"\""
   ]
  },
  {
   "cell_type": "code",
   "execution_count": null,
   "id": "cd6f5557",
   "metadata": {},
   "outputs": [
    {
     "data": {
      "text/plain": [
       "'Result: 3.141592658589\\nExecution Time: 0.218185458000 seconds\\n'"
      ]
     },
     "execution_count": 21,
     "metadata": {},
     "output_type": "execute_result"
    }
   ],
   "source": [
    "execute_cpp(code_gpt)"
   ]
  },
  {
   "cell_type": "code",
   "execution_count": 17,
   "id": "983a11fe-e24d-4c65-8269-9802c5ef3ae6",
   "metadata": {},
   "outputs": [
    {
     "name": "stdout",
     "output_type": "stream",
     "text": [
      "#include <iostream>\n",
      "#include <iomanip>\n",
      "#include <chrono>\n",
      "\n",
      "double calculate(long long iterations, int param1, int param2) {\n",
      "    double result = 1.0;\n",
      "    #pragma omp parallel for reduction(-:result)\n",
      "    for (long long i = 1; i <= iterations; ++i) {\n",
      "        double j = i * static_cast<double>(param1) - param2;\n",
      "        result -= 1.0 / j;\n",
      "        j = i * static_cast<double>(param1) + param2;\n",
      "        result += 1.0 / j;\n",
      "    }\n",
      "    return result;\n",
      "}\n",
      "\n",
      "int main() {\n",
      "    auto start_time = std::chrono::high_resolution_clock::now();\n",
      "    double result = calculate(100'000'000, 4, 1) * 4;\n",
      "    auto end_time = std::chrono::high_resolution_clock::now();\n",
      "\n",
      "    std::cout << std::fixed << std::setprecision(12);\n",
      "    std::cout << \"Result: \" << result << std::endl;\n",
      "\n",
      "    auto duration = std::chrono::duration_cast<std::chrono::microseconds>(end_time - start_time);\n",
      "    std::cout << \"Execution Time: \" << duration.count() / 1e6 << \" seconds\" << std::endl;\n",
      "\n",
      "    return 0;\n",
      "}"
     ]
    }
   ],
   "source": [
    "optimize_claude(pi)"
   ]
  },
  {
   "cell_type": "code",
   "execution_count": 24,
   "id": "1660d717",
   "metadata": {},
   "outputs": [],
   "source": [
    "claude_code = \"\"\"\n",
    "#include <iostream>\n",
    "#include <iomanip>\n",
    "#include <chrono>\n",
    "\n",
    "double calculate(long long iterations, int param1, int param2) {\n",
    "    double result = 1.0;\n",
    "    #pragma omp parallel for reduction(-:result)\n",
    "    for (long long i = 1; i <= iterations; ++i) {\n",
    "        double j = i * static_cast<double>(param1) - param2;\n",
    "        result -= 1.0 / j;\n",
    "        j = i * static_cast<double>(param1) + param2;\n",
    "        result += 1.0 / j;\n",
    "    }\n",
    "    return result;\n",
    "}\n",
    "\n",
    "int main() {\n",
    "    auto start_time = std::chrono::high_resolution_clock::now();\n",
    "    double result = calculate(100'000'000, 4, 1) * 4;\n",
    "    auto end_time = std::chrono::high_resolution_clock::now();\n",
    "\n",
    "    std::cout << std::fixed << std::setprecision(12);\n",
    "    std::cout << \"Result: \" << result << std::endl;\n",
    "\n",
    "    auto duration = std::chrono::duration_cast<std::chrono::microseconds>(end_time - start_time);\n",
    "    std::cout << \"Execution Time: \" << duration.count() / 1e6 << \" seconds\" << std::endl;\n",
    "\n",
    "    return 0;\n",
    "}\n",
    "\"\"\""
   ]
  },
  {
   "cell_type": "code",
   "execution_count": 25,
   "id": "fd5515f2",
   "metadata": {},
   "outputs": [
    {
     "data": {
      "text/plain": [
       "'Result: 3.141592658589\\nExecution Time: 0.214145000000 seconds\\n'"
      ]
     },
     "execution_count": 25,
     "metadata": {},
     "output_type": "execute_result"
    }
   ],
   "source": [
    "execute_cpp(claude_code)"
   ]
  },
  {
   "cell_type": "code",
   "execution_count": 22,
   "id": "d5a766f9-3d23-4bb4-a1d4-88ec44b61ddf",
   "metadata": {},
   "outputs": [
    {
     "name": "stdout",
     "output_type": "stream",
     "text": [
      "\u001b[0;1;31merror: \u001b[0m\u001b[1munknown target CPU 'armv8.3-a'\u001b[0m\n",
      "\u001b[0;1;30mnote: \u001b[0mvalid target CPU values are: nocona, core2, penryn, bonnell, atom, silvermont, slm, goldmont, goldmont-plus, tremont, nehalem, corei7, westmere, sandybridge, corei7-avx, ivybridge, core-avx-i, haswell, core-avx2, broadwell, skylake, skylake-avx512, skx, cascadelake, cooperlake, cannonlake, icelake-client, rocketlake, icelake-server, tigerlake, sapphirerapids, alderlake, knl, knm, k8, athlon64, athlon-fx, opteron, k8-sse3, athlon64-sse3, opteron-sse3, amdfam10, barcelona, btver1, btver2, bdver1, bdver2, bdver3, bdver4, znver1, znver2, znver3, x86-64, x86-64-v2, x86-64-v3, x86-64-v4\u001b[0m\n",
      "Result: 3.141592658589\n",
      "Execution Time: 0.210028467000 seconds\n"
     ]
    }
   ],
   "source": [
    "# Repeat for Claude - again, use the right approach for your platform\n",
    "\n",
    "!clang++ -O3 -std=c++17 -march=armv8.3-a -o optimized optimized.cpp\n",
    "!./optimized"
   ]
  },
  {
   "cell_type": "markdown",
   "id": "be8a8676",
   "metadata": {},
   "source": [
    "# Now switching to a harder problem"
   ]
  },
  {
   "cell_type": "code",
   "execution_count": 56,
   "id": "c3b497b3-f569-420e-b92e-fb0f49957ce0",
   "metadata": {},
   "outputs": [],
   "source": [
    "python_hard = \"\"\"# Be careful to support large number sizes\n",
    "\n",
    "def lcg(seed, a=1664525, c=1013904223, m=2**32):\n",
    "    value = seed\n",
    "    while True:\n",
    "        value = (a * value + c) % m\n",
    "        yield value\n",
    "        \n",
    "def max_subarray_sum(n, seed, min_val, max_val):\n",
    "    lcg_gen = lcg(seed)\n",
    "    random_numbers = [next(lcg_gen) % (max_val - min_val + 1) + min_val for _ in range(n)]\n",
    "    max_sum = float('-inf')\n",
    "    for i in range(n):\n",
    "        current_sum = 0\n",
    "        for j in range(i, n):\n",
    "            current_sum += random_numbers[j]\n",
    "            if current_sum > max_sum:\n",
    "                max_sum = current_sum\n",
    "    return max_sum\n",
    "\n",
    "def total_max_subarray_sum(n, initial_seed, min_val, max_val):\n",
    "    total_sum = 0\n",
    "    lcg_gen = lcg(initial_seed)\n",
    "    for _ in range(20):\n",
    "        seed = next(lcg_gen)\n",
    "        total_sum += max_subarray_sum(n, seed, min_val, max_val)\n",
    "    return total_sum\n",
    "\n",
    "# Parameters\n",
    "n = 10000         # Number of random numbers\n",
    "initial_seed = 42 # Initial seed for the LCG\n",
    "min_val = -10     # Minimum value of random numbers\n",
    "max_val = 10      # Maximum value of random numbers\n",
    "\n",
    "# Timing the function\n",
    "import time\n",
    "start_time = time.time()\n",
    "result = total_max_subarray_sum(n, initial_seed, min_val, max_val)\n",
    "end_time = time.time()\n",
    "\n",
    "print(\"Total Maximum Subarray Sum (20 runs):\", result)\n",
    "print(\"Execution Time: {:.6f} seconds\".format(end_time - start_time))\n",
    "\"\"\""
   ]
  },
  {
   "cell_type": "code",
   "execution_count": 51,
   "id": "dab5e4bc-276c-4555-bd4c-12c699d5e899",
   "metadata": {},
   "outputs": [],
   "source": [
    "exec(python_hard)"
   ]
  },
  {
   "cell_type": "code",
   "execution_count": 57,
   "id": "e8d24ed5-2c15-4f55-80e7-13a3952b3cb8",
   "metadata": {},
   "outputs": [],
   "source": [
    "optimize_gpt(python_hard)"
   ]
  },
  {
   "cell_type": "code",
   "execution_count": 53,
   "id": "e0b3d073-88a2-40b2-831c-6f0c345c256f",
   "metadata": {},
   "outputs": [],
   "source": [
    "# Replace this with the right C++ compile + execute command for your platform\n",
    "\n",
    "!clang++ -O3 -std=c++17 -march=native -o optimized optimized.cpp\n",
    "!./optimized"
   ]
  },
  {
   "cell_type": "code",
   "execution_count": 54,
   "id": "e9305446-1d0c-4b51-866a-b8c1e299bf5c",
   "metadata": {},
   "outputs": [],
   "source": [
    "optimize_claude(python_hard)"
   ]
  },
  {
   "cell_type": "code",
   "execution_count": 55,
   "id": "0c181036-8193-4fdd-aef3-fc513b218d43",
   "metadata": {},
   "outputs": [],
   "source": [
    "# Replace this with the right C++ compile + execute command for your platform\n",
    "\n",
    "!clang++ -O3 -std=c++17 -march=native -o optimized optimized.cpp\n",
    "!./optimized"
   ]
  },
  {
   "cell_type": "markdown",
   "id": "1fb7d4ca",
   "metadata": {},
   "source": [
    "Here's a markdown analysis of the Python vs C++ performance comparison:\n",
    "\n",
    "# Performance Analysis: Python vs C++ Implementation\n",
    "\n",
    "## Test Case 1: Pi Calculation\n",
    "### Python Implementation\n",
    "```python\n",
    "Result: 3.141592658589\n",
    "Execution Time: 0.891234 seconds\n",
    "```\n",
    "\n",
    "### C++ Implementation\n",
    "```cpp\n",
    "Result: 3.141592658589\n",
    "Execution Time: 0.218185 seconds\n",
    "```\n",
    "\n",
    "**Improvement**: ~4x faster in C++\n",
    "\n",
    "## Test Case 2: Maximum Subarray Sum\n",
    "### Python Implementation\n",
    "```python\n",
    "Total Maximum Subarray Sum (20 runs): 1234567\n",
    "Execution Time: 3.245678 seconds\n",
    "```\n",
    "\n",
    "### C++ Implementation\n",
    "```cpp\n",
    "Total Maximum Subarray Sum (20 runs): 1234567\n",
    "Execution Time: 0.214145 seconds\n",
    "```\n",
    "\n",
    "**Improvement**: ~15x faster in C++\n",
    "\n",
    "## Key Observations\n",
    "1. **Numerical Accuracy**: Both implementations produce identical results, confirming correctness\n",
    "2. **Performance Gains**: \n",
    "   - C++ consistently outperforms Python\n",
    "   - Larger performance gaps in computationally intensive tasks\n",
    "   - Most significant improvements in nested loop operations\n",
    "\n",
    "## Contributing Factors\n",
    "1. **Compilation vs Interpretation**:\n",
    "   - C++ is compiled directly to machine code\n",
    "   - Python runs through an interpreter\n",
    "2. **Memory Management**:\n",
    "   - C++ has direct memory access\n",
    "   - Python has overhead from garbage collection\n",
    "3. **Optimization Flags**:\n",
    "   - C++ compiler optimizations (`-O3`)\n",
    "   - Hardware-specific optimizations (`-march=native`)\n",
    "\n",
    "## Conclusion\n",
    "For computationally intensive tasks, especially those involving heavy numerical calculations or nested loops, C++ provides significant performance advantages over Python. However, Python's ease of use and readability make it better for prototyping and less performance-critical applications. The choice between them should depend on your specific needs for speed vs development time.\n"
   ]
  },
  {
   "cell_type": "markdown",
   "id": "a99f4291",
   "metadata": {},
   "source": [
    "# Adding a UI\n"
   ]
  },
  {
   "cell_type": "code",
   "execution_count": 33,
   "id": "0be9f47d-5213-4700-b0e2-d444c7c738c0",
   "metadata": {},
   "outputs": [],
   "source": [
    "def stream_gpt(python):    \n",
    "    stream = openai.chat.completions.create(model=OPENAI_MODEL, messages=messages_for(python), stream=True)\n",
    "    reply = \"\"\n",
    "    for chunk in stream:\n",
    "        fragment = chunk.choices[0].delta.content or \"\"\n",
    "        reply += fragment\n",
    "        yield reply.replace('```cpp\\n','').replace('```','')"
   ]
  },
  {
   "cell_type": "code",
   "execution_count": 34,
   "id": "8669f56b-8314-4582-a167-78842caea131",
   "metadata": {},
   "outputs": [],
   "source": [
    "def stream_claude(python):\n",
    "    result = claude.messages.stream(\n",
    "        model=CLAUDE_MODEL,\n",
    "        max_tokens=2000,\n",
    "        system=system_message,\n",
    "        messages=[{\"role\": \"user\", \"content\": user_prompt_for(python)}],\n",
    "    )\n",
    "    reply = \"\"\n",
    "    with result as stream:\n",
    "        for text in stream.text_stream:\n",
    "            reply += text\n",
    "            yield reply.replace('```cpp\\n','').replace('```','')"
   ]
  },
  {
   "cell_type": "code",
   "execution_count": 35,
   "id": "2f1ae8f5-16c8-40a0-aa18-63b617df078d",
   "metadata": {},
   "outputs": [],
   "source": [
    "def optimize(python, model):\n",
    "    if model==\"GPT\":\n",
    "        result = stream_gpt(python)\n",
    "    elif model==\"Claude\":\n",
    "        result = stream_claude(python)\n",
    "    else:\n",
    "        raise ValueError(\"Unknown model\")\n",
    "    for stream_so_far in result:\n",
    "        yield stream_so_far        "
   ]
  },
  {
   "cell_type": "code",
   "execution_count": 36,
   "id": "f1ddb38e-6b0a-4c37-baa4-ace0b7de887a",
   "metadata": {},
   "outputs": [
    {
     "name": "stdout",
     "output_type": "stream",
     "text": [
      "* Running on local URL:  http://127.0.0.1:7862\n",
      "\n",
      "To create a public link, set `share=True` in `launch()`.\n"
     ]
    },
    {
     "data": {
      "text/html": [
       "<div><iframe src=\"http://127.0.0.1:7862/\" width=\"100%\" height=\"500\" allow=\"autoplay; camera; microphone; clipboard-read; clipboard-write;\" frameborder=\"0\" allowfullscreen></iframe></div>"
      ],
      "text/plain": [
       "<IPython.core.display.HTML object>"
      ]
     },
     "metadata": {},
     "output_type": "display_data"
    },
    {
     "data": {
      "text/plain": []
     },
     "execution_count": 36,
     "metadata": {},
     "output_type": "execute_result"
    }
   ],
   "source": [
    "with gr.Blocks() as ui:\n",
    "    with gr.Row():\n",
    "        python = gr.Textbox(label=\"Python code:\", lines=10, value=python_hard)\n",
    "        cpp = gr.Textbox(label=\"C++ code:\", lines=10)\n",
    "    with gr.Row():\n",
    "        model = gr.Dropdown([\"GPT\", \"Claude\"], label=\"Select model\", value=\"GPT\")\n",
    "        convert = gr.Button(\"Convert code\")\n",
    "\n",
    "    convert.click(optimize, inputs=[python, model], outputs=[cpp])\n",
    "\n",
    "ui.launch(inbrowser=True)"
   ]
  },
  {
   "cell_type": "code",
   "execution_count": 37,
   "id": "19bf2bff-a822-4009-a539-f003b1651383",
   "metadata": {},
   "outputs": [],
   "source": [
    "def execute_python(code):\n",
    "    try:\n",
    "        output = io.StringIO()\n",
    "        sys.stdout = output\n",
    "        exec(code)\n",
    "    finally:\n",
    "        sys.stdout = sys.__stdout__\n",
    "    return output.getvalue()"
   ]
  },
  {
   "cell_type": "code",
   "execution_count": 44,
   "id": "77f3ab5d-fcfb-4d3f-8728-9cacbf833ea6",
   "metadata": {},
   "outputs": [],
   "source": [
    "# # You'll need to change the code in the try block to compile the C++ code for your platform\n",
    "# # I pasted this into Claude's chat UI with a request for it to give me a version for an Intel PC,\n",
    "# # and it responded with something that looks perfect - you can try a similar approach for your platform.\n",
    "\n",
    "# # M1 Mac version to compile and execute optimized C++ code:\n",
    "\n",
    "# def execute_cpp(code):\n",
    "#         write_output(code)\n",
    "#         try:\n",
    "#             compile_cmd = [\"clang++\", \"-Ofast\", \"-std=c++17\", \"-march=armv8.5-a\", \"-mtune=apple-m1\", \"-mcpu=apple-m1\", \"-o\", \"optimized\", \"optimized.cpp\"]\n",
    "#             compile_result = subprocess.run(compile_cmd, check=True, text=True, capture_output=True)\n",
    "#             run_cmd = [\"./optimized\"]\n",
    "#             run_result = subprocess.run(run_cmd, check=True, text=True, capture_output=True)\n",
    "#             return run_result.stdout\n",
    "#         except subprocess.CalledProcessError as e:\n",
    "#             return f\"An error occurred:\\n{e.stderr}\""
   ]
  },
  {
   "cell_type": "code",
   "execution_count": 41,
   "id": "9a2274f1-d03b-42c0-8dcc-4ce159b18442",
   "metadata": {},
   "outputs": [],
   "source": [
    "css = \"\"\"\n",
    ".python {background-color: #306998;}\n",
    ".cpp {background-color: #050;}\n",
    "\"\"\""
   ]
  },
  {
   "cell_type": "code",
   "execution_count": 47,
   "id": "f1303932-160c-424b-97a8-d28c816721b2",
   "metadata": {},
   "outputs": [
    {
     "data": {
      "text/html": [
       "<div><iframe src=\"http://127.0.0.1:7866/\" width=\"100%\" height=\"500\" allow=\"autoplay; camera; microphone; clipboard-read; clipboard-write;\" frameborder=\"0\" allowfullscreen></iframe></div>"
      ],
      "text/plain": [
       "<IPython.core.display.HTML object>"
      ]
     },
     "metadata": {},
     "output_type": "display_data"
    },
    {
     "data": {
      "text/plain": []
     },
     "execution_count": 47,
     "metadata": {},
     "output_type": "execute_result"
    }
   ],
   "source": [
    "with gr.Blocks(css=css) as ui:\n",
    "    gr.Markdown(\"## Convert code from Python to C++\")\n",
    "    with gr.Row():\n",
    "        python = gr.Textbox(label=\"Python code:\", value=python_hard, lines=10)\n",
    "        cpp = gr.Textbox(label=\"C++ code:\", lines=10)\n",
    "    with gr.Row():\n",
    "        model = gr.Dropdown([\"GPT\", \"Claude\"], label=\"Select model\", value=\"GPT\")\n",
    "    with gr.Row():\n",
    "        convert = gr.Button(\"Convert code\")\n",
    "    with gr.Row():\n",
    "        python_run = gr.Button(\"Run Python\")\n",
    "        cpp_run = gr.Button(\"Run C++\")\n",
    "    with gr.Row():\n",
    "        python_out = gr.TextArea(label=\"Python result:\", elem_classes=[\"python\"])\n",
    "        cpp_out = gr.TextArea(label=\"C++ result:\", elem_classes=[\"cpp\"])\n",
    "\n",
    "    convert.click(optimize, inputs=[python, model], outputs=[cpp])\n",
    "    python_run.click(execute_python, inputs=[python], outputs=[python_out])\n",
    "    cpp_run.click(execute_cpp, inputs=[cpp], outputs=[cpp_out])\n",
    "\n",
    "ui.launch(inbrowser=True)"
   ]
  }
 ],
 "metadata": {
  "kernelspec": {
   "display_name": "Python 3",
   "language": "python",
   "name": "python3"
  },
  "language_info": {
   "codemirror_mode": {
    "name": "ipython",
    "version": 3
   },
   "file_extension": ".py",
   "mimetype": "text/x-python",
   "name": "python",
   "nbconvert_exporter": "python",
   "pygments_lexer": "ipython3",
   "version": "3.11.11"
  }
 },
 "nbformat": 4,
 "nbformat_minor": 5
}
