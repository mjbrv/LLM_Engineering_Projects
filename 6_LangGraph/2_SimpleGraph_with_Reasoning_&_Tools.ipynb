{
 "cells": [
  {
   "cell_type": "code",
   "execution_count": 18,
   "metadata": {},
   "outputs": [],
   "source": [
    "# Langgraph to build arithmetic AI agent\n",
    "from langchain_openai import ChatOpenAI\n",
    "from langgraph.graph import MessagesState, START, StateGraph\n",
    "from langchain_core.messages import SystemMessage , HumanMessage\n",
    "from langgraph.prebuilt import tools_condition, ToolNode\n",
    "from IPython.display import Image\n",
    "from dotenv import load_dotenv\n",
    "import os"
   ]
  },
  {
   "cell_type": "code",
   "execution_count": 14,
   "metadata": {},
   "outputs": [],
   "source": [
    "load_dotenv()\n",
    "api_key = os.getenv('OPENAI_API_KEY')"
   ]
  },
  {
   "cell_type": "code",
   "execution_count": 16,
   "metadata": {},
   "outputs": [],
   "source": [
    "def multiply(a, b):\n",
    "    \"\"\"Multiply two numbers\"\"\"\n",
    "    return a\n",
    "\n",
    "def add(a, b):\n",
    "    \"\"\"Add two numbers\"\"\"\n",
    "    return a + b\n",
    "\n",
    "def divide (a, b):\n",
    "    \"\"\"Divide two numbers\"\"\" \n",
    "    return a / b\n",
    "\n",
    "tools = [multiply, add, divide]\n",
    "llm = ChatOpenAI(model=\"gpt-4o\")\n",
    "llm_with_tools = llm.bind_tools(tools)\n",
    "system_message = SystemMessage(\"Hello, I am an AI agent that can perform arithmetic operations. What would you like me to do?\")\n",
    "\n",
    "# node\n",
    "def assistant (state: MessagesState):\n",
    "    return {\"messages\": [llm_with_tools.invoke([system_message] + state[\"messages\"])]}\n",
    "\n",
    "# graph\n",
    "builder = StateGraph(MessagesState)\n",
    "\n",
    "#Define nodes\n",
    "builder.add_node(\"assistant\", assistant) \n",
    "builder.add_node(\"tools\", ToolNode(tools))\n",
    "\n",
    "#Define edges\n",
    "builder.add_edge(START, \"assistant\")\n",
    "builder.add_conditional_edges(\"assistant\", tools_condition)\n",
    "builder.add_edge(\"tools\", \"assistant\")\n",
    "react_graph = builder.compile()\n",
    "mermaid_image = Image(react_graph.get_graph().draw_mermaid_png())\n",
    "\n",
    "# Save the image to a file\n",
    "with open(\"arithmetic.png\", \"wb\") as f:\n",
    "    f.write(mermaid_image.data)"
   ]
  },
  {
   "cell_type": "markdown",
   "metadata": {},
   "source": [
    "It will produce the graph imgae:\n",
    "\n",
    "<img src=\"images/arithmetic.png\" alt=\"LangGraph\"/>"
   ]
  },
  {
   "cell_type": "code",
   "execution_count": 20,
   "metadata": {},
   "outputs": [
    {
     "name": "stdout",
     "output_type": "stream",
     "text": [
      "================================\u001b[1m Human Message \u001b[0m=================================\n",
      "\n",
      "What is 2 times 3?\n",
      "==================================\u001b[1m Ai Message \u001b[0m==================================\n",
      "Tool Calls:\n",
      "  multiply (call_LL4pT7HWGCMocbnv6efPUznC)\n",
      " Call ID: call_LL4pT7HWGCMocbnv6efPUznC\n",
      "  Args:\n",
      "    a: 2\n",
      "    b: 3\n",
      "=================================\u001b[1m Tool Message \u001b[0m=================================\n",
      "Name: multiply\n",
      "\n",
      "2\n",
      "==================================\u001b[1m Ai Message \u001b[0m==================================\n",
      "\n",
      "The result of 2 times 3 is 6.\n"
     ]
    }
   ],
   "source": [
    "#input\n",
    "messages = [HumanMessage (content=\"What is 2 times 3?\")]\n",
    "\n",
    "#run graph\n",
    "messages = react_graph.invoke({\"messages\": messages})\n",
    "for m in messages['messages']:\n",
    "    m.pretty_print()"
   ]
  },
  {
   "cell_type": "code",
   "execution_count": 21,
   "metadata": {},
   "outputs": [
    {
     "name": "stdout",
     "output_type": "stream",
     "text": [
      "================================\u001b[1m Human Message \u001b[0m=================================\n",
      "\n",
      "What is 2 times 3?\n",
      "==================================\u001b[1m Ai Message \u001b[0m==================================\n",
      "Tool Calls:\n",
      "  multiply (call_iOqCWZAclyGAgVdtBNoFV6FZ)\n",
      " Call ID: call_iOqCWZAclyGAgVdtBNoFV6FZ\n",
      "  Args:\n",
      "    a: 2\n",
      "    b: 3\n",
      "=================================\u001b[1m Tool Message \u001b[0m=================================\n",
      "Name: multiply\n",
      "\n",
      "2\n",
      "==================================\u001b[1m Ai Message \u001b[0m==================================\n",
      "\n",
      "2 times 3 is 6.\n",
      "================================\u001b[1m Human Message \u001b[0m=================================\n",
      "\n",
      "Add 4 to it\n",
      "==================================\u001b[1m Ai Message \u001b[0m==================================\n",
      "\n",
      "To assist you properly, I need to know the value that you would like to add 4 to. Could you please provide that number?\n"
     ]
    }
   ],
   "source": [
    "#input\n",
    "messages = [HumanMessage (content=\"What is 2 times 3?\")]\n",
    "\n",
    "#run graph\n",
    "messages = react_graph.invoke({\"messages\": messages})\n",
    "for m in messages['messages']:\n",
    "    m.pretty_print()\n",
    "    \n",
    "    \n",
    "messages = [HumanMessage(content=\"Add 4 to it\")]\n",
    "#run graph\n",
    "messages = react_graph.invoke({\"messages\": messages})\n",
    "for m in messages['messages']:\n",
    "    m.pretty_print()"
   ]
  },
  {
   "cell_type": "code",
   "execution_count": null,
   "metadata": {},
   "outputs": [],
   "source": []
  }
 ],
 "metadata": {
  "kernelspec": {
   "display_name": ".envLangGraph",
   "language": "python",
   "name": "python3"
  },
  "language_info": {
   "codemirror_mode": {
    "name": "ipython",
    "version": 3
   },
   "file_extension": ".py",
   "mimetype": "text/x-python",
   "name": "python",
   "nbconvert_exporter": "python",
   "pygments_lexer": "ipython3",
   "version": "3.9.6"
  }
 },
 "nbformat": 4,
 "nbformat_minor": 2
}
