{
 "cells": [
  {
   "cell_type": "code",
   "execution_count": 2,
   "metadata": {},
   "outputs": [],
   "source": [
    "from typing_extensions import TypedDict\n",
    "import random\n",
    "from typing import Literal\n",
    "from IPython.display import Image, display\n",
    "from langgraph.graph import StateGraph, START, END\n",
    "from IPython.display import Image"
   ]
  },
  {
   "cell_type": "code",
   "execution_count": 3,
   "metadata": {},
   "outputs": [],
   "source": [
    "class state(TypedDict):\n",
    "    graph_state: str\n",
    "    \n",
    "def node_1(state):\n",
    "    print(\"---Node 1---\")\n",
    "    return {\"graph_state\": state[\"graph_state\"] + \": 1\"}\n",
    "\n",
    "def node_2(state):\n",
    "    print(\"---Node 2---\")\n",
    "    return {\"graph_state\": state[\"graph_state\"] + \": 2\"}\n",
    "\n",
    "def node_3(state):\n",
    "    print(\"---Node 3---\")\n",
    "    return {\"graph_state\": state[\"graph_state\"] + \": 3\"}\n",
    "\n",
    "\n",
    "def decide_next(state) -> Literal[\"node_2\",\"node_3\"]:\n",
    "    print(\"---Decide Next---\") \n",
    "\n",
    "    user_input = state['graph_state']\n",
    "\n",
    "    if random.random() < 0.5:\n",
    "        return \"node_2\"\n",
    "    \n",
    "    return \"node_3\""
   ]
  },
  {
   "cell_type": "code",
   "execution_count": 4,
   "metadata": {},
   "outputs": [
    {
     "name": "stdout",
     "output_type": "stream",
     "text": [
      "---Node 1---\n",
      "---Decide Next---\n",
      "---Node 2---\n",
      "{'graph_state': 'Please show a number -: 1: 2'}\n"
     ]
    }
   ],
   "source": [
    "\n",
    "# Build graph\n",
    "builder = StateGraph(state)\n",
    "builder.add_node(\"node_1\", node_1)\n",
    "builder.add_node(\"node_2\", node_2)\n",
    "builder.add_node(\"node_3\", node_3)\n",
    "\n",
    "# Logic\n",
    "builder.add_edge(START, \"node_1\")\n",
    "builder.add_conditional_edges(\"node_1\", decide_next)\n",
    "builder.add_edge(\"node_2\", END)\n",
    "builder.add_edge(\"node_3\", END)\n",
    "\n",
    "# Add\n",
    "graph = builder.compile()\n",
    "\n",
    "# View\n",
    "mermaid_image = Image(graph.get_graph().draw_mermaid_png())\n",
    "\n",
    "# Save the image to a file\n",
    "with open(\"images/mermaid_image.png\", \"wb\") as f:\n",
    "    f.write(mermaid_image.data)\n",
    "\n",
    "tempgraph = graph.invoke({\"graph_state\" : \"Please show a number -: starting from 1 ...\"})\n",
    "print(tempgraph)"
   ]
  },
  {
   "cell_type": "markdown",
   "metadata": {},
   "source": [
    "*mermaid_image.png* will look like this:\n",
    "\n",
    "![Mermaid Graph](images/mermaid_image.png)"
   ]
  },
  {
   "cell_type": "markdown",
   "metadata": {},
   "source": []
  }
 ],
 "metadata": {
  "kernelspec": {
   "display_name": ".envLangGraph",
   "language": "python",
   "name": "python3"
  },
  "language_info": {
   "codemirror_mode": {
    "name": "ipython",
    "version": 3
   },
   "file_extension": ".py",
   "mimetype": "text/x-python",
   "name": "python",
   "nbconvert_exporter": "python",
   "pygments_lexer": "ipython3",
   "version": "3.9.6"
  }
 },
 "nbformat": 4,
 "nbformat_minor": 2
}
